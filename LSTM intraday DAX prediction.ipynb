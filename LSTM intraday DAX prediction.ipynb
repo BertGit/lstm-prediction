{
 "cells": [
  {
   "cell_type": "code",
   "execution_count": 11,
   "metadata": {
    "collapsed": false
   },
   "outputs": [],
   "source": [
    "# Load data\n",
    "from urllib.request import urlretrieve\n",
    "from os.path import isfile\n",
    "from tqdm import tqdm\n",
    "\n",
    "class DLProgress(tqdm):\n",
    "    last_block = 0\n",
    "\n",
    "    def hook(self, block_num=1, block_size=1, total_size=None):\n",
    "        self.total = total_size\n",
    "        self.update((block_num - self.last_block) * block_size)\n",
    "        self.last_block = block_num\n",
    "\n",
    "if not isfile('dax.csv'):\n",
    "    with DLProgress(unit='B', unit_scale=True, miniters=1, desc='Dax intraday data') as pbar:\n",
    "        urlretrieve(\n",
    "            'https://s3.eu-central-1.amazonaws.com/ms-bjm-prediction/dax.csv',\n",
    "            'dax.csv',\n",
    "            pbar.hook)\n"
   ]
  },
  {
   "cell_type": "code",
   "execution_count": 14,
   "metadata": {
    "collapsed": false
   },
   "outputs": [
    {
     "data": {
      "text/html": [
       "<div>\n",
       "<table border=\"1\" class=\"dataframe\">\n",
       "  <thead>\n",
       "    <tr style=\"text-align: right;\">\n",
       "      <th></th>\n",
       "      <th>Local time</th>\n",
       "      <th>Open</th>\n",
       "      <th>High</th>\n",
       "      <th>Low</th>\n",
       "      <th>Close</th>\n",
       "      <th>Volume</th>\n",
       "    </tr>\n",
       "  </thead>\n",
       "  <tbody>\n",
       "    <tr>\n",
       "      <th>0</th>\n",
       "      <td>02.02.2015 00:00:00.000</td>\n",
       "      <td>10634.8</td>\n",
       "      <td>10645.2</td>\n",
       "      <td>10634.8</td>\n",
       "      <td>10643.2</td>\n",
       "      <td>0.0010</td>\n",
       "    </tr>\n",
       "    <tr>\n",
       "      <th>1</th>\n",
       "      <td>02.02.2015 00:01:00.000</td>\n",
       "      <td>10644.0</td>\n",
       "      <td>10648.4</td>\n",
       "      <td>10644.0</td>\n",
       "      <td>10645.2</td>\n",
       "      <td>0.0005</td>\n",
       "    </tr>\n",
       "    <tr>\n",
       "      <th>2</th>\n",
       "      <td>02.02.2015 00:02:00.000</td>\n",
       "      <td>10644.8</td>\n",
       "      <td>10645.6</td>\n",
       "      <td>10644.4</td>\n",
       "      <td>10645.2</td>\n",
       "      <td>0.0003</td>\n",
       "    </tr>\n",
       "    <tr>\n",
       "      <th>3</th>\n",
       "      <td>02.02.2015 00:03:00.000</td>\n",
       "      <td>10645.6</td>\n",
       "      <td>10647.6</td>\n",
       "      <td>10644.0</td>\n",
       "      <td>10647.6</td>\n",
       "      <td>0.0007</td>\n",
       "    </tr>\n",
       "    <tr>\n",
       "      <th>4</th>\n",
       "      <td>02.02.2015 00:04:00.000</td>\n",
       "      <td>10648.4</td>\n",
       "      <td>10648.4</td>\n",
       "      <td>10646.4</td>\n",
       "      <td>10647.6</td>\n",
       "      <td>0.0004</td>\n",
       "    </tr>\n",
       "  </tbody>\n",
       "</table>\n",
       "</div>"
      ],
      "text/plain": [
       "                Local time     Open     High      Low    Close  Volume\n",
       "0  02.02.2015 00:00:00.000  10634.8  10645.2  10634.8  10643.2  0.0010\n",
       "1  02.02.2015 00:01:00.000  10644.0  10648.4  10644.0  10645.2  0.0005\n",
       "2  02.02.2015 00:02:00.000  10644.8  10645.6  10644.4  10645.2  0.0003\n",
       "3  02.02.2015 00:03:00.000  10645.6  10647.6  10644.0  10647.6  0.0007\n",
       "4  02.02.2015 00:04:00.000  10648.4  10648.4  10646.4  10647.6  0.0004"
      ]
     },
     "execution_count": 14,
     "metadata": {},
     "output_type": "execute_result"
    }
   ],
   "source": [
    "%matplotlib inline\n",
    "import pandas as pd\n",
    "\n",
    "df = pd.read_csv('dax.csv')\n",
    "df.head()"
   ]
  },
  {
   "cell_type": "code",
   "execution_count": null,
   "metadata": {
    "collapsed": true
   },
   "outputs": [],
   "source": []
  }
 ],
 "metadata": {
  "kernelspec": {
   "display_name": "Python 3",
   "language": "python",
   "name": "python3"
  },
  "language_info": {
   "codemirror_mode": {
    "name": "ipython",
    "version": 3
   },
   "file_extension": ".py",
   "mimetype": "text/x-python",
   "name": "python",
   "nbconvert_exporter": "python",
   "pygments_lexer": "ipython3",
   "version": "3.5.2"
  },
  "widgets": {
   "state": {},
   "version": "1.1.2"
  }
 },
 "nbformat": 4,
 "nbformat_minor": 2
}
